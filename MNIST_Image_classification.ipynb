{
  "nbformat": 4,
  "nbformat_minor": 0,
  "metadata": {
    "colab": {
      "provenance": [],
      "gpuType": "T4"
    },
    "kernelspec": {
      "name": "python3",
      "display_name": "Python 3"
    },
    "language_info": {
      "name": "python"
    },
    "accelerator": "GPU"
  },
  "cells": [
    {
      "cell_type": "markdown",
      "source": [
        "### MNIST Digit Classification using Deep Learning (Neural Network)\n"
      ],
      "metadata": {
        "id": "1uYE6o4ZIRup"
      }
    },
    {
      "cell_type": "code",
      "execution_count": 2,
      "metadata": {
        "id": "c0kFZib6HRc0"
      },
      "outputs": [],
      "source": [
        "# import the necessary libraries\n",
        "\n",
        "import numpy as np  # for creating the numpy arrays\n",
        "import matplotlib.pyplot as plt    # for plottling\n",
        "import seaborn as sns  # for plotting\n",
        "\n",
        "import cv2   # for image processing task\n",
        "from google.colab.patches import cv2_imshow  # to display the image\n",
        "from PIL import Image  # image processing\n",
        "\n",
        "import tensorflow as tf   # for the dl\n",
        "tf.random.set_seed(3)\n",
        "from tensorflow import keras\n",
        "from tensorflow.keras.datasets import mnist\n",
        "from tensorflow.math import confusion_matrix\n"
      ]
    },
    {
      "cell_type": "markdown",
      "source": [
        "##### Load the MNIST data"
      ],
      "metadata": {
        "id": "vdnODEp0KBHt"
      }
    },
    {
      "cell_type": "markdown",
      "source": [
        "\n",
        "This is a dataset of 60,000 28x28 grayscale images of the 10 digits, along with a test set of 10,000 images. More info can be found at the MNIST homepage.\n",
        "\n",
        "Arguments\n",
        "\n",
        "Tuple of NumPy arrays: (x_train, y_train), (x_test, y_test).\n",
        "\n",
        "- x_train: uint8 NumPy array of grayscale image data with shapes (60000, 28, 28), containing the training data. Pixel values range from 0 to 255.\n",
        "\n",
        "- y_train: uint8 NumPy array of digit labels (integers in range 0-9) with shape (60000,) for the training data.\n",
        "\n",
        "- x_test: uint8 NumPy array of grayscale image data with shapes (10000, 28, 28), containing the test data. Pixel values range from 0 to 255.\n",
        "\n",
        "- y_test: uint8 NumPy array of digit labels (integers in range 0-9) with shape (10000,) for the test data."
      ],
      "metadata": {
        "id": "yTzMD152LyHY"
      }
    },
    {
      "cell_type": "code",
      "source": [
        " (x_train, y_train), (x_test, y_test) = mnist.load_data()"
      ],
      "metadata": {
        "colab": {
          "base_uri": "https://localhost:8080/"
        },
        "id": "d95I1NMaJWQn",
        "outputId": "73271e1a-1212-4540-f3b8-161a25e15cc6"
      },
      "execution_count": 3,
      "outputs": [
        {
          "output_type": "stream",
          "name": "stdout",
          "text": [
            "Downloading data from https://storage.googleapis.com/tensorflow/tf-keras-datasets/mnist.npz\n",
            "\u001b[1m11490434/11490434\u001b[0m \u001b[32m━━━━━━━━━━━━━━━━━━━━\u001b[0m\u001b[37m\u001b[0m \u001b[1m2s\u001b[0m 0us/step\n"
          ]
        }
      ]
    },
    {
      "cell_type": "code",
      "source": [
        "type(x_train)"
      ],
      "metadata": {
        "colab": {
          "base_uri": "https://localhost:8080/"
        },
        "id": "8Nsu0ot_K876",
        "outputId": "c2ecadb4-7089-4fb2-80de-f10a83bfc861"
      },
      "execution_count": 4,
      "outputs": [
        {
          "output_type": "execute_result",
          "data": {
            "text/plain": [
              "numpy.ndarray"
            ]
          },
          "metadata": {},
          "execution_count": 4
        }
      ]
    },
    {
      "cell_type": "code",
      "source": [
        "# check the shape of the arrays\n",
        "print((x_train.shape, y_train.shape), (x_test.shape, y_test.shape))"
      ],
      "metadata": {
        "colab": {
          "base_uri": "https://localhost:8080/"
        },
        "id": "7-fad6GRK_mv",
        "outputId": "d1e414ac-b62a-4213-9f37-63354441fdc4"
      },
      "execution_count": 6,
      "outputs": [
        {
          "output_type": "stream",
          "name": "stdout",
          "text": [
            "((60000, 28, 28), (60000,)) ((10000, 28, 28), (10000,))\n"
          ]
        }
      ]
    },
    {
      "cell_type": "code",
      "source": [
        "# print an image from the train data\n",
        "\n",
        "# print(x_train[32])\n",
        "\n",
        "# print(x_train[32].shape)"
      ],
      "metadata": {
        "id": "Qe3b10HXLIP3"
      },
      "execution_count": 55,
      "outputs": []
    },
    {
      "cell_type": "code",
      "source": [
        "# display the image and label to check the data\n",
        "\n",
        "plt.imshow(x_train[4444])\n",
        "plt.show()\n",
        "\n",
        "# print the label of the image\n",
        "print(y_train[4444])"
      ],
      "metadata": {
        "colab": {
          "base_uri": "https://localhost:8080/",
          "height": 448
        },
        "id": "lKSzXrJZMVf3",
        "outputId": "79221312-9231-4248-bfd9-4c083783769f"
      },
      "execution_count": 16,
      "outputs": [
        {
          "output_type": "display_data",
          "data": {
            "text/plain": [
              "<Figure size 640x480 with 1 Axes>"
            ],
            "image/png": "[encoded data removed]"
          },
          "metadata": {}
        },
        {
          "output_type": "stream",
          "name": "stdout",
          "text": [
            "0\n"
          ]
        }
      ]
    },
    {
      "cell_type": "markdown",
      "source": [
        "##### Image Label"
      ],
      "metadata": {
        "id": "Hqf-H3jeN8VG"
      }
    },
    {
      "cell_type": "code",
      "source": [
        "y_train.shape, y_test.shape"
      ],
      "metadata": {
        "colab": {
          "base_uri": "https://localhost:8080/"
        },
        "id": "HKs5IjvBMpEf",
        "outputId": "f576a9b6-3f18-4299-c398-c589eb57b693"
      },
      "execution_count": 13,
      "outputs": [
        {
          "output_type": "execute_result",
          "data": {
            "text/plain": [
              "((60000,), (10000,))"
            ]
          },
          "metadata": {},
          "execution_count": 13
        }
      ]
    },
    {
      "cell_type": "code",
      "source": [
        "# unique value in y_train and y_test\n",
        "\n",
        "print(np.unique(y_train))\n",
        "print(np.unique(y_test))"
      ],
      "metadata": {
        "colab": {
          "base_uri": "https://localhost:8080/"
        },
        "id": "VJooZSANOCga",
        "outputId": "7e63b146-704a-42bc-bdc5-3cd27ac7fb3a"
      },
      "execution_count": 15,
      "outputs": [
        {
          "output_type": "stream",
          "name": "stdout",
          "text": [
            "[0 1 2 3 4 5 6 7 8 9]\n",
            "[0 1 2 3 4 5 6 7 8 9]\n"
          ]
        }
      ]
    },
    {
      "cell_type": "markdown",
      "source": [
        "We will be be using these label as is it and all the image have the same dimesion in the data , so no need to preprocess the data it's already done\n",
        "\n"
      ],
      "metadata": {
        "id": "bVIP6fPHOY2f"
      }
    },
    {
      "cell_type": "markdown",
      "source": [
        "##### Scaling the data : to make the data into a same range\n",
        "- since the pixcel of the image is between 0-255 so that's why we divided by 255"
      ],
      "metadata": {
        "id": "bZ7yIdlBPCfF"
      }
    },
    {
      "cell_type": "code",
      "source": [
        "### scaling\n",
        "\n",
        "x_train = x_train/255\n",
        "x_test = x_test/255"
      ],
      "metadata": {
        "id": "5_9ScR2uOJxs"
      },
      "execution_count": 17,
      "outputs": []
    },
    {
      "cell_type": "markdown",
      "source": [
        "## Building the Neural Network"
      ],
      "metadata": {
        "id": "VZ94v7_EP8YQ"
      }
    },
    {
      "cell_type": "code",
      "source": [
        "# setting up the layer for the neural network\n",
        "model = keras.Sequential([                    # we nned to add 3 for the coloured image\n",
        "                          keras.layers.Flatten(input_shape = (28, 28)),   # to convert matric into a single array, 1-d array\n",
        "                          keras.layers.Dense(50, activation='relu'),    # for the activation function of the layers\n",
        "                          keras.layers.Dense(50, activation='relu'),\n",
        "                          keras.layers.Dense(10, activation = 'sigmoid'),   # the number of classes in our label that why we use 10 neuron because 0-9 labels\n",
        "\n",
        "\n",
        "])"
      ],
      "metadata": {
        "colab": {
          "base_uri": "https://localhost:8080/"
        },
        "id": "l-uY7kcLPWjI",
        "outputId": "57c52529-2653-4dbc-f909-61344d780206"
      },
      "execution_count": 20,
      "outputs": [
        {
          "output_type": "stream",
          "name": "stderr",
          "text": [
            "/usr/local/lib/python3.10/dist-packages/keras/src/layers/reshaping/flatten.py:37: UserWarning: Do not pass an `input_shape`/`input_dim` argument to a layer. When using Sequential models, prefer using an `Input(shape)` object as the first layer in the model instead.\n",
            "  super().__init__(**kwargs)\n"
          ]
        }
      ]
    },
    {
      "cell_type": "code",
      "source": [
        "## complining the neural network\n",
        "\n",
        "model.compile(optimizer='adam',    # best parameters for the model which have the good accuracy\n",
        "              loss = 'sparse_categorical_crossentropy',\n",
        "              metrics = ['accuracy'])"
      ],
      "metadata": {
        "id": "4jsXYRPCPvqZ"
      },
      "execution_count": 21,
      "outputs": []
    },
    {
      "cell_type": "markdown",
      "source": [
        "### Training the model"
      ],
      "metadata": {
        "id": "e6nhHNU4SJRE"
      }
    },
    {
      "cell_type": "code",
      "source": [
        "model.fit(x_train, y_train, epochs=20)"
      ],
      "metadata": {
        "colab": {
          "base_uri": "https://localhost:8080/"
        },
        "id": "6nL27xgISF9t",
        "outputId": "c500a63f-0e12-4633-840e-bf017e9657c9"
      },
      "execution_count": 22,
      "outputs": [
        {
          "output_type": "stream",
          "name": "stdout",
          "text": [
            "Epoch 1/20\n",
            "\u001b[1m1875/1875\u001b[0m \u001b[32m━━━━━━━━━━━━━━━━━━━━\u001b[0m\u001b[37m\u001b[0m \u001b[1m7s\u001b[0m 2ms/step - accuracy: 0.8402 - loss: 0.5297\n",
            "Epoch 2/20\n",
            "\u001b[1m1875/1875\u001b[0m \u001b[32m━━━━━━━━━━━━━━━━━━━━\u001b[0m\u001b[37m\u001b[0m \u001b[1m3s\u001b[0m 2ms/step - accuracy: 0.9550 - loss: 0.1512\n",
            "Epoch 3/20\n",
            "\u001b[1m1875/1875\u001b[0m \u001b[32m━━━━━━━━━━━━━━━━━━━━\u001b[0m\u001b[37m\u001b[0m \u001b[1m5s\u001b[0m 2ms/step - accuracy: 0.9674 - loss: 0.1070\n",
            "Epoch 4/20\n",
            "\u001b[1m1875/1875\u001b[0m \u001b[32m━━━━━━━━━━━━━━━━━━━━\u001b[0m\u001b[37m\u001b[0m \u001b[1m3s\u001b[0m 2ms/step - accuracy: 0.9749 - loss: 0.0824\n",
            "Epoch 5/20\n",
            "\u001b[1m1875/1875\u001b[0m \u001b[32m━━━━━━━━━━━━━━━━━━━━\u001b[0m\u001b[37m\u001b[0m \u001b[1m4s\u001b[0m 2ms/step - accuracy: 0.9793 - loss: 0.0660\n",
            "Epoch 6/20\n",
            "\u001b[1m1875/1875\u001b[0m \u001b[32m━━━━━━━━━━━━━━━━━━━━\u001b[0m\u001b[37m\u001b[0m \u001b[1m3s\u001b[0m 2ms/step - accuracy: 0.9834 - loss: 0.0549\n",
            "Epoch 7/20\n",
            "\u001b[1m1875/1875\u001b[0m \u001b[32m━━━━━━━━━━━━━━━━━━━━\u001b[0m\u001b[37m\u001b[0m \u001b[1m5s\u001b[0m 2ms/step - accuracy: 0.9864 - loss: 0.0456\n",
            "Epoch 8/20\n",
            "\u001b[1m1875/1875\u001b[0m \u001b[32m━━━━━━━━━━━━━━━━━━━━\u001b[0m\u001b[37m\u001b[0m \u001b[1m4s\u001b[0m 2ms/step - accuracy: 0.9875 - loss: 0.0394\n",
            "Epoch 9/20\n",
            "\u001b[1m1875/1875\u001b[0m \u001b[32m━━━━━━━━━━━━━━━━━━━━\u001b[0m\u001b[37m\u001b[0m \u001b[1m4s\u001b[0m 2ms/step - accuracy: 0.9893 - loss: 0.0348\n",
            "Epoch 10/20\n",
            "\u001b[1m1875/1875\u001b[0m \u001b[32m━━━━━━━━━━━━━━━━━━━━\u001b[0m\u001b[37m\u001b[0m \u001b[1m5s\u001b[0m 2ms/step - accuracy: 0.9903 - loss: 0.0306\n",
            "Epoch 11/20\n",
            "\u001b[1m1875/1875\u001b[0m \u001b[32m━━━━━━━━━━━━━━━━━━━━\u001b[0m\u001b[37m\u001b[0m \u001b[1m4s\u001b[0m 2ms/step - accuracy: 0.9918 - loss: 0.0257\n",
            "Epoch 12/20\n",
            "\u001b[1m1875/1875\u001b[0m \u001b[32m━━━━━━━━━━━━━━━━━━━━\u001b[0m\u001b[37m\u001b[0m \u001b[1m5s\u001b[0m 2ms/step - accuracy: 0.9919 - loss: 0.0252\n",
            "Epoch 13/20\n",
            "\u001b[1m1875/1875\u001b[0m \u001b[32m━━━━━━━━━━━━━━━━━━━━\u001b[0m\u001b[37m\u001b[0m \u001b[1m5s\u001b[0m 2ms/step - accuracy: 0.9927 - loss: 0.0222\n",
            "Epoch 14/20\n",
            "\u001b[1m1875/1875\u001b[0m \u001b[32m━━━━━━━━━━━━━━━━━━━━\u001b[0m\u001b[37m\u001b[0m \u001b[1m5s\u001b[0m 2ms/step - accuracy: 0.9933 - loss: 0.0197\n",
            "Epoch 15/20\n",
            "\u001b[1m1875/1875\u001b[0m \u001b[32m━━━━━━━━━━━━━━━━━━━━\u001b[0m\u001b[37m\u001b[0m \u001b[1m3s\u001b[0m 2ms/step - accuracy: 0.9929 - loss: 0.0194\n",
            "Epoch 16/20\n",
            "\u001b[1m1875/1875\u001b[0m \u001b[32m━━━━━━━━━━━━━━━━━━━━\u001b[0m\u001b[37m\u001b[0m \u001b[1m6s\u001b[0m 2ms/step - accuracy: 0.9929 - loss: 0.0196\n",
            "Epoch 17/20\n",
            "\u001b[1m1875/1875\u001b[0m \u001b[32m━━━━━━━━━━━━━━━━━━━━\u001b[0m\u001b[37m\u001b[0m \u001b[1m3s\u001b[0m 2ms/step - accuracy: 0.9940 - loss: 0.0160\n",
            "Epoch 18/20\n",
            "\u001b[1m1875/1875\u001b[0m \u001b[32m━━━━━━━━━━━━━━━━━━━━\u001b[0m\u001b[37m\u001b[0m \u001b[1m4s\u001b[0m 2ms/step - accuracy: 0.9942 - loss: 0.0140\n",
            "Epoch 19/20\n",
            "\u001b[1m1875/1875\u001b[0m \u001b[32m━━━━━━━━━━━━━━━━━━━━\u001b[0m\u001b[37m\u001b[0m \u001b[1m5s\u001b[0m 2ms/step - accuracy: 0.9939 - loss: 0.0145\n",
            "Epoch 20/20\n",
            "\u001b[1m1875/1875\u001b[0m \u001b[32m━━━━━━━━━━━━━━━━━━━━\u001b[0m\u001b[37m\u001b[0m \u001b[1m3s\u001b[0m 2ms/step - accuracy: 0.9944 - loss: 0.0133\n"
          ]
        },
        {
          "output_type": "execute_result",
          "data": {
            "text/plain": [
              "<keras.src.callbacks.history.History at 0x7f871e15fa60>"
            ]
          },
          "metadata": {},
          "execution_count": 22
        }
      ]
    },
    {
      "cell_type": "markdown",
      "source": [
        "#### Training data accuracy = 99.44 %"
      ],
      "metadata": {
        "id": "q2k9C5mDSt97"
      }
    },
    {
      "cell_type": "markdown",
      "source": [
        "## Model Evavulation\n",
        "\n",
        "- #### Accuracy on the test data"
      ],
      "metadata": {
        "id": "aWPYdOI1S0bJ"
      }
    },
    {
      "cell_type": "code",
      "source": [
        "loss, accuracy = model.evaluate(x_test, y_test)\n",
        "\n",
        "print(\"Test data Accuracy \", accuracy)\n",
        "\n",
        "print(\"Loss function for test data \", loss)\n"
      ],
      "metadata": {
        "colab": {
          "base_uri": "https://localhost:8080/"
        },
        "id": "UlI51YptSUsQ",
        "outputId": "4b1bd7e2-c781-48c0-e553-7e6b94f066e1"
      },
      "execution_count": 26,
      "outputs": [
        {
          "output_type": "stream",
          "name": "stdout",
          "text": [
            "\u001b[1m313/313\u001b[0m \u001b[32m━━━━━━━━━━━━━━━━━━━━\u001b[0m\u001b[37m\u001b[0m \u001b[1m0s\u001b[0m 1ms/step - accuracy: 0.9616 - loss: 0.1910\n",
            "Test data Accuracy  0.9660999774932861\n",
            "Loss function for test data  0.17069301009178162\n"
          ]
        }
      ]
    },
    {
      "cell_type": "markdown",
      "source": [
        "#### Test data accuracy = 96.60 %"
      ],
      "metadata": {
        "id": "v1saXU0ZTgRi"
      }
    },
    {
      "cell_type": "code",
      "source": [
        "x_test.shape"
      ],
      "metadata": {
        "colab": {
          "base_uri": "https://localhost:8080/"
        },
        "id": "CZ-iWM3UTI_v",
        "outputId": "2833ccc3-be81-47fc-b39e-c2ffc0638c32"
      },
      "execution_count": 27,
      "outputs": [
        {
          "output_type": "execute_result",
          "data": {
            "text/plain": [
              "(10000, 28, 28)"
            ]
          },
          "metadata": {},
          "execution_count": 27
        }
      ]
    },
    {
      "cell_type": "code",
      "source": [
        "# display the first data point/image\n",
        "\n",
        "plt.imshow(x_test[0])\n",
        "plt.show()"
      ],
      "metadata": {
        "colab": {
          "base_uri": "https://localhost:8080/",
          "height": 430
        },
        "id": "8UD5IAzuTnnv",
        "outputId": "d1184fcd-8d99-4190-e9fa-9f5c9ac0755c"
      },
      "execution_count": 28,
      "outputs": [
        {
          "output_type": "display_data",
          "data": {
            "text/plain": [
              "<Figure size 640x480 with 1 Axes>"
            ],
            "image/png": "[encoded data removed]"
          },
          "metadata": {}
        }
      ]
    },
    {
      "cell_type": "code",
      "source": [
        "# print the y_label / true label\n",
        "\n",
        "print(y_test[0])"
      ],
      "metadata": {
        "colab": {
          "base_uri": "https://localhost:8080/"
        },
        "id": "CUxcT9PnTwSk",
        "outputId": "648b344c-66db-43a7-9a08-361ceede5a27"
      },
      "execution_count": 31,
      "outputs": [
        {
          "output_type": "stream",
          "name": "stdout",
          "text": [
            "7\n"
          ]
        }
      ]
    },
    {
      "cell_type": "code",
      "source": [
        "# make the predictions for all the x_test\n",
        "\n",
        "y_preds = model.predict(x_test)"
      ],
      "metadata": {
        "colab": {
          "base_uri": "https://localhost:8080/"
        },
        "id": "MQXW3XUzT2IK",
        "outputId": "ba6a74dc-5b05-41fc-b3d3-aac32a96f4b1"
      },
      "execution_count": 32,
      "outputs": [
        {
          "output_type": "stream",
          "name": "stdout",
          "text": [
            "\u001b[1m313/313\u001b[0m \u001b[32m━━━━━━━━━━━━━━━━━━━━\u001b[0m\u001b[37m\u001b[0m \u001b[1m1s\u001b[0m 2ms/step\n"
          ]
        }
      ]
    },
    {
      "cell_type": "code",
      "source": [
        "y_preds.shape"
      ],
      "metadata": {
        "colab": {
          "base_uri": "https://localhost:8080/"
        },
        "id": "npfmC7BsT-3X",
        "outputId": "2c386112-b85e-4e74-8b64-8108423a4e56"
      },
      "execution_count": 33,
      "outputs": [
        {
          "output_type": "execute_result",
          "data": {
            "text/plain": [
              "(10000, 10)"
            ]
          },
          "metadata": {},
          "execution_count": 33
        }
      ]
    },
    {
      "cell_type": "code",
      "source": [
        "y_preds[0]"
      ],
      "metadata": {
        "colab": {
          "base_uri": "https://localhost:8080/"
        },
        "id": "GMeE8nl3UCYl",
        "outputId": "1dea27d1-d229-4838-f836-16d71eb96c5f"
      },
      "execution_count": 34,
      "outputs": [
        {
          "output_type": "execute_result",
          "data": {
            "text/plain": [
              "array([2.4343391e-01, 1.7908233e-05, 9.4759098e-04, 4.8520744e-01,\n",
              "       8.3311497e-10, 1.5462567e-06, 4.6958853e-14, 9.9999976e-01,\n",
              "       5.1723346e-03, 9.7374356e-01], dtype=float32)"
            ]
          },
          "metadata": {},
          "execution_count": 34
        }
      ]
    },
    {
      "cell_type": "markdown",
      "source": [
        "#### Model.predict gives the prediction probability for each class for the particular data points"
      ],
      "metadata": {
        "id": "OWn7I6UFUjZz"
      }
    },
    {
      "cell_type": "code",
      "source": [
        "## changing the prediciotn probability to class labels\n",
        "\n",
        "label_for_first_image = np.argmax(y_preds[0])  # index of the max number into an array we use argmax\n",
        "label_for_first_image\n",
        "# this is the correct predictions made by the model and which has given us the max value as 7 index"
      ],
      "metadata": {
        "colab": {
          "base_uri": "https://localhost:8080/"
        },
        "id": "iJWQlIATUFFw",
        "outputId": "71d9e3a4-4543-4c91-cdce-8ef055e7ae6b"
      },
      "execution_count": 38,
      "outputs": [
        {
          "output_type": "execute_result",
          "data": {
            "text/plain": [
              "7"
            ]
          },
          "metadata": {},
          "execution_count": 38
        }
      ]
    },
    {
      "cell_type": "markdown",
      "source": [
        "#### Converting the prediction probability for the class label"
      ],
      "metadata": {
        "id": "RUzttz0iVYI1"
      }
    },
    {
      "cell_type": "code",
      "source": [
        "y_preds_label = [np.argmax(i) for i in y_preds]\n",
        "\n",
        "# y_preds_label"
      ],
      "metadata": {
        "id": "ckKDoq9wUvNl"
      },
      "execution_count": 54,
      "outputs": []
    },
    {
      "cell_type": "code",
      "source": [
        "y_preds   # this is the prediction probability"
      ],
      "metadata": {
        "colab": {
          "base_uri": "https://localhost:8080/"
        },
        "id": "RQMXjL4jVxFd",
        "outputId": "d03cdfab-49e5-4053-8553-b4c4fcec7ba8"
      },
      "execution_count": 44,
      "outputs": [
        {
          "output_type": "execute_result",
          "data": {
            "text/plain": [
              "array([[2.4343391e-01, 1.7908233e-05, 9.4759098e-04, ..., 9.9999976e-01,\n",
              "        5.1723346e-03, 9.7374356e-01],\n",
              "       [8.5386826e-04, 3.6075702e-09, 9.9999988e-01, ..., 4.7000007e-13,\n",
              "        4.5839147e-06, 9.2910646e-08],\n",
              "       [1.7714977e-03, 9.9906570e-01, 8.2003795e-02, ..., 1.4039730e-01,\n",
              "        7.6358008e-01, 1.4807657e-07],\n",
              "       ...,\n",
              "       [1.4592689e-07, 2.9252013e-07, 9.3104452e-10, ..., 2.7992580e-02,\n",
              "        1.8169385e-04, 3.2584096e-04],\n",
              "       [1.5891804e-03, 1.6471209e-12, 1.1967452e-07, ..., 2.1058321e-08,\n",
              "        9.9656361e-01, 2.7302851e-11],\n",
              "       [2.8299430e-04, 1.1575891e-11, 3.4397775e-03, ..., 9.4790267e-13,\n",
              "        3.1050589e-05, 1.0204490e-11]], dtype=float32)"
            ]
          },
          "metadata": {},
          "execution_count": 44
        }
      ]
    },
    {
      "cell_type": "markdown",
      "source": [
        "y_test --> True Labels\n",
        "\n",
        "y_preds_label --> Predicted Labels"
      ],
      "metadata": {
        "id": "USrANblnWNp2"
      }
    },
    {
      "cell_type": "markdown",
      "source": [
        "#### Confusion matric"
      ],
      "metadata": {
        "id": "2_hSg2SlWXGN"
      }
    },
    {
      "cell_type": "code",
      "source": [
        "cf_matrix = confusion_matrix(y_test, y_preds_label)\n",
        "                              # true label, predicted label\n",
        "\n",
        "cf_matrix"
      ],
      "metadata": {
        "colab": {
          "base_uri": "https://localhost:8080/"
        },
        "id": "vyMQTjTaV263",
        "outputId": "b7a13462-826e-4f47-f586-333136b8a38f"
      },
      "execution_count": 46,
      "outputs": [
        {
          "output_type": "execute_result",
          "data": {
            "text/plain": [
              "<tf.Tensor: shape=(10, 10), dtype=int32, numpy=\n",
              "array([[ 969,    0,    1,    0,    0,    0,    6,    0,    2,    2],\n",
              "       [   0, 1118,    3,    3,    0,    0,    5,    0,    6,    0],\n",
              "       [  11,    0,  985,    2,    2,    2,    3,    7,   18,    2],\n",
              "       [   2,    0,    6,  963,    0,    7,    0,    6,   15,   11],\n",
              "       [   3,    0,    0,    0,  960,    0,    8,    1,    2,    8],\n",
              "       [   2,    0,    0,   10,    1,  850,   12,    1,   13,    3],\n",
              "       [   9,    2,    2,    1,    2,    0,  938,    1,    3,    0],\n",
              "       [   3,    4,    8,    1,    4,    1,    0,  979,    5,   23],\n",
              "       [  12,    1,    1,    2,    1,    1,    9,    2,  941,    4],\n",
              "       [   6,    3,    0,    5,   18,    2,    3,    2,   12,  958]],\n",
              "      dtype=int32)>"
            ]
          },
          "metadata": {},
          "execution_count": 46
        }
      ]
    },
    {
      "cell_type": "code",
      "source": [
        "# for the ease of understaning  we will create a heatmap\n",
        "\n",
        "plt.figure(figsize=(15, 7))\n",
        "sns.heatmap(cf_matrix, annot=True, fmt= 'd', cmap = 'Blues')\n",
        "plt.ylabel(\"True Labels\")\n",
        "plt.xlabel(\"Predicted Labels\")"
      ],
      "metadata": {
        "colab": {
          "base_uri": "https://localhost:8080/",
          "height": 627
        },
        "id": "lg6lK0IpV23e",
        "outputId": "b18dd8ce-f72f-4708-93de-81fa0ae94199"
      },
      "execution_count": 50,
      "outputs": [
        {
          "output_type": "execute_result",
          "data": {
            "text/plain": [
              "Text(0.5, 47.7222222222222, 'Predicted Labels')"
            ]
          },
          "metadata": {},
          "execution_count": 50
        },
        {
          "output_type": "display_data",
          "data": {
            "text/plain": [
              "<Figure size 1500x700 with 2 Axes>"
            ],
            "image/png": "[encoded data removed]"
          },
          "metadata": {}
        }
      ]
    },
    {
      "cell_type": "markdown",
      "source": [
        "## Building the prediction system\n",
        "- when we feed any other/ new image to make the presictions"
      ],
      "metadata": {
        "id": "WA64ecQfX0SA"
      }
    },
    {
      "cell_type": "code",
      "source": [
        "# input the image and read the image\n",
        "\n",
        "image_path = '/content/img.png'\n",
        "cv2.imread(image_path)\n",
        "\n",
        "# converting into the numpy array and preprocess image\n",
        "input_image = cv2.imread(image_path)\n",
        "# input_image.shape\n",
        "\n",
        "\n",
        "# convert the image to gray scale and reshape it\n",
        "grayscale = cv2.cvtColor(input_image, cv2.COLOR_RGB2GRAY)\n",
        "# to check\n",
        "# grayscale.shape : there will be no third parameter of 3\n",
        "\n",
        "\n",
        "# to resize the input image\n",
        "input_image_resize = cv2.resize(grayscale, dsize=(28, 28))\n",
        "# to check the shape\n",
        "# input_image_resize.shape : there will resized the image\n",
        "\n",
        "# scale the image\n",
        "input_image_resize = input_image_resize/255\n",
        "\n",
        "\n",
        "# image reshape\n",
        "image_reshaped = np.reshape(input_image_resize, [1, 28, 28])  # only for 1 image of the  size of 28x28 that's why we used\n",
        "\n",
        "# prediction\n",
        "input_image_perdict = model.predict(image_reshaped)\n",
        "print(input_image_perdict)  # this is the probability\n",
        "# to find the label\n",
        "input_pred_label = np.argmax(input_image_perdict)\n",
        "print(input_pred_label)"
      ],
      "metadata": {
        "colab": {
          "base_uri": "https://localhost:8080/"
        },
        "id": "Hp2XBX8nV21g",
        "outputId": "76c098c0-1e5e-43ee-a8ed-e4ae46a174e5"
      },
      "execution_count": 60,
      "outputs": [
        {
          "output_type": "stream",
          "name": "stdout",
          "text": [
            "\u001b[1m1/1\u001b[0m \u001b[32m━━━━━━━━━━━━━━━━━━━━\u001b[0m\u001b[37m\u001b[0m \u001b[1m0s\u001b[0m 32ms/step\n",
            "[[5.2535732e-08 1.9534613e-35 9.5571446e-01 2.0002045e-21 0.0000000e+00\n",
            "  1.0000000e+00 2.1394497e-07 4.8531663e-16 2.3857148e-02 1.8626809e-15]]\n",
            "5\n"
          ]
        }
      ]
    },
    {
      "cell_type": "code",
      "source": [
        "# display the image from the numpy array\n",
        "# input"
      ],
      "metadata": {
        "id": "DPnmyyKNV2yN"
      },
      "execution_count": null,
      "outputs": []
    },
    {
      "cell_type": "code",
      "source": [],
      "metadata": {
        "id": "MN3PkLexV2ve"
      },
      "execution_count": null,
      "outputs": []
    },
    {
      "cell_type": "code",
      "source": [],
      "metadata": {
        "id": "lx9em1qnV2s2"
      },
      "execution_count": null,
      "outputs": []
    },
    {
      "cell_type": "code",
      "source": [],
      "metadata": {
        "id": "BVzHJjNPV2p_"
      },
      "execution_count": null,
      "outputs": []
    },
    {
      "cell_type": "code",
      "source": [],
      "metadata": {
        "id": "rAOgkxIgV2nF"
      },
      "execution_count": null,
      "outputs": []
    },
    {
      "cell_type": "code",
      "source": [],
      "metadata": {
        "id": "IG7Q5-3JVzax"
      },
      "execution_count": null,
      "outputs": []
    }
  ]
}